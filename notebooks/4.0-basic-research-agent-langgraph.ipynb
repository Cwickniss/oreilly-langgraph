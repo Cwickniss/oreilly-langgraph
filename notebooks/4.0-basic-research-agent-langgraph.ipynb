{
 "cells": [
  {
   "cell_type": "code",
   "execution_count": 9,
   "metadata": {},
   "outputs": [],
   "source": [
    "# source: https://learn.deeplearning.ai/courses/ai-agents-in-langgraph/lesson/1/introduction "
   ]
  },
  {
   "cell_type": "code",
   "execution_count": 1,
   "metadata": {},
   "outputs": [],
   "source": [
    "#!/usr/bin/env python\n",
    "# coding: utf-8\n",
    "\n",
    "from dotenv import load_dotenv\n",
    "\n",
    "_ = load_dotenv()\n",
    "\n",
    "\n",
    "from langgraph.graph import StateGraph, END\n",
    "from typing import TypedDict, Annotated, List\n",
    "import operator\n",
    "from langgraph.checkpoint.sqlite import SqliteSaver\n",
    "from langchain_core.messages import AnyMessage, SystemMessage, HumanMessage, AIMessage, ChatMessage\n",
    "\n",
    "memory = SqliteSaver.from_conn_string(\":memory:\")\n"
   ]
  },
  {
   "cell_type": "code",
   "execution_count": 2,
   "metadata": {},
   "outputs": [],
   "source": [
    "class AgentState(TypedDict):\n",
    "    task: str\n",
    "    plan: str\n",
    "    draft: str\n",
    "    critique: str\n",
    "    content: List[str]\n",
    "    revision_number: int\n",
    "    max_revisions: int\n",
    "\n",
    "\n",
    "from langchain_openai import ChatOpenAI\n",
    "model = ChatOpenAI(model=\"gpt-4o-mini\", temperature=0)"
   ]
  },
  {
   "cell_type": "code",
   "execution_count": 3,
   "metadata": {},
   "outputs": [],
   "source": [
    "PLAN_PROMPT = \"\"\"You are an expert writer tasked with writing a high level outline of an essay. \\\n",
    "Write such an outline for the user provided topic. Give an outline of the essay along with any relevant notes \\\n",
    "or instructions for the sections.\"\"\"\n",
    "\n",
    "WRITER_PROMPT = \"\"\"You are an essay assistant tasked with writing excellent 5-paragraph essays.\\\n",
    "Generate the best essay possible for the user's request and the initial outline. \\\n",
    "If the user provides critique, respond with a revised version of your previous attempts. \\\n",
    "Utilize all the information below as needed: \n",
    "\n",
    "------\n",
    "\n",
    "{content}\"\"\"\n",
    "\n",
    "\n",
    "REFLECTION_PROMPT = \"\"\"You are a teacher grading an essay submission. \\\n",
    "Generate critique and recommendations for the user's submission. \\\n",
    "Provide detailed recommendations, including requests for length, depth, style, etc.\"\"\"\n",
    "\n",
    "\n",
    "RESEARCH_PLAN_PROMPT = \"\"\"You are a researcher charged with providing information that can \\\n",
    "be used when writing the following essay. Generate a list of search queries that will gather \\\n",
    "any relevant information. Only generate 3 queries max.\"\"\"\n",
    "\n",
    "\n",
    "RESEARCH_CRITIQUE_PROMPT = \"\"\"You are a researcher charged with providing information that can \\\n",
    "be used when making any requested revisions (as outlined below). \\\n",
    "Generate a list of search queries that will gather any relevant information. Only generate 3 queries max.\"\"\""
   ]
  },
  {
   "cell_type": "code",
   "execution_count": 4,
   "metadata": {},
   "outputs": [],
   "source": [
    "from langchain_core.pydantic_v1 import BaseModel\n",
    "\n",
    "class Queries(BaseModel):\n",
    "    queries: List[str]"
   ]
  },
  {
   "cell_type": "code",
   "execution_count": 5,
   "metadata": {},
   "outputs": [],
   "source": [
    "from tavily import TavilyClient\n",
    "import os\n",
    "tavily = TavilyClient(api_key=os.environ[\"TAVILY_API_KEY\"])"
   ]
  },
  {
   "cell_type": "code",
   "execution_count": 6,
   "metadata": {},
   "outputs": [],
   "source": [
    "def plan_node(state: AgentState):\n",
    "    messages = [\n",
    "        SystemMessage(content=PLAN_PROMPT), \n",
    "        HumanMessage(content=state['task'])\n",
    "    ]\n",
    "    response = model.invoke(messages)\n",
    "    return {\"plan\": response.content}\n",
    "\n",
    "\n",
    "def research_plan_node(state: AgentState):\n",
    "    queries = model.with_structured_output(Queries).invoke([\n",
    "        SystemMessage(content=RESEARCH_PLAN_PROMPT),\n",
    "        HumanMessage(content=state['task'])\n",
    "    ])\n",
    "    content = state['content'] or []\n",
    "    for q in queries.queries:\n",
    "        response = tavily.search(query=q, max_results=2)\n",
    "        for r in response['results']:\n",
    "            content.append(r['content'])\n",
    "    return {\"content\": content}\n",
    "\n",
    "\n",
    "def generation_node(state: AgentState):\n",
    "    content = \"\\n\\n\".join(state['content'] or [])\n",
    "    user_message = HumanMessage(\n",
    "        content=f\"{state['task']}\\n\\nHere is my plan:\\n\\n{state['plan']}\")\n",
    "    messages = [\n",
    "        SystemMessage(\n",
    "            content=WRITER_PROMPT.format(content=content)\n",
    "        ),\n",
    "        user_message\n",
    "        ]\n",
    "    response = model.invoke(messages)\n",
    "    return {\n",
    "        \"draft\": response.content, \n",
    "        \"revision_number\": state.get(\"revision_number\", 1) + 1\n",
    "    }\n",
    "\n",
    "\n",
    "def reflection_node(state: AgentState):\n",
    "    messages = [\n",
    "        SystemMessage(content=REFLECTION_PROMPT), \n",
    "        HumanMessage(content=state['draft'])\n",
    "    ]\n",
    "    response = model.invoke(messages)\n",
    "    return {\"critique\": response.content}\n",
    "\n",
    "\n",
    "def research_critique_node(state: AgentState):\n",
    "    queries = model.with_structured_output(Queries).invoke([\n",
    "        SystemMessage(content=RESEARCH_CRITIQUE_PROMPT),\n",
    "        HumanMessage(content=state['critique'])\n",
    "    ])\n",
    "    content = state['content'] or []\n",
    "    for q in queries.queries:\n",
    "        response = tavily.search(query=q, max_results=2)\n",
    "        for r in response['results']:\n",
    "            content.append(r['content'])\n",
    "    return {\"content\": content}\n",
    "\n",
    "\n",
    "def should_continue(state):\n",
    "    if state[\"revision_number\"] > state[\"max_revisions\"]:\n",
    "        return END\n",
    "    return \"reflect\""
   ]
  },
  {
   "cell_type": "code",
   "execution_count": 7,
   "metadata": {},
   "outputs": [],
   "source": [
    "builder = StateGraph(AgentState)"
   ]
  },
  {
   "cell_type": "code",
   "execution_count": 8,
   "metadata": {},
   "outputs": [],
   "source": [
    "builder.add_node(\"planner\", plan_node)\n",
    "builder.add_node(\"generate\", generation_node)\n",
    "builder.add_node(\"reflect\", reflection_node)\n",
    "builder.add_node(\"research_plan\", research_plan_node)\n",
    "builder.add_node(\"research_critique\", research_critique_node)\n",
    "builder.set_entry_point(\"planner\")\n",
    "builder.add_conditional_edges(\n",
    "    \"generate\", \n",
    "    should_continue, \n",
    "    {END: END, \"reflect\": \"reflect\"}\n",
    ")\n",
    "builder.add_edge(\"planner\", \"research_plan\")\n",
    "builder.add_edge(\"research_plan\", \"generate\")\n",
    "builder.add_edge(\"reflect\", \"research_critique\")\n",
    "builder.add_edge(\"research_critique\", \"generate\")\n",
    "graph = builder.compile(checkpointer=memory)"
   ]
  },
  {
   "cell_type": "code",
   "execution_count": 9,
   "metadata": {},
   "outputs": [
    {
     "data": {
      "image/jpeg": "[encoded data removed]",
      "text/plain": [
       "<IPython.core.display.Image object>"
      ]
     },
     "execution_count": 9,
     "metadata": {},
     "output_type": "execute_result"
    }
   ],
   "source": [
    "from IPython.display import Image\n",
    "Image(graph.get_graph().draw_mermaid_png())"
   ]
  },
  {
   "cell_type": "code",
   "execution_count": 10,
   "metadata": {},
   "outputs": [
    {
     "name": "stdout",
     "output_type": "stream",
     "text": [
      "{'planner': {'plan': '**Outline for Essay: \"The Difference Between LangChain and LangSmith\"**\\n\\n**I. Introduction**\\n   A. Definition of LangChain and LangSmith\\n      1. Brief overview of what each tool is designed for\\n      2. Importance of understanding the differences in the context of AI and language processing\\n   B. Purpose of the essay\\n      1. To compare and contrast LangChain and LangSmith\\n      2. To provide insights into their respective use cases and functionalities\\n\\n**II. Overview of LangChain**\\n   A. Description of LangChain\\n      1. Purpose and primary functions\\n      2. Key features and capabilities\\n   B. Use cases\\n      1. Examples of applications in AI and language processing\\n      2. Industries or sectors that benefit from LangChain\\n\\n**III. Overview of LangSmith**\\n   A. Description of LangSmith\\n      1. Purpose and primary functions\\n      2. Key features and capabilities\\n   B. Use cases\\n      1. Examples of applications in AI and language processing\\n      2. Industries or sectors that benefit from LangSmith\\n\\n**IV. Comparative Analysis**\\n   A. Key Differences\\n      1. Functional differences between LangChain and LangSmith\\n      2. Differences in target audience and user experience\\n   B. Strengths and Weaknesses\\n      1. Advantages of using LangChain\\n      2. Advantages of using LangSmith\\n      3. Limitations of each tool\\n\\n**V. Conclusion**\\n   A. Summary of key points discussed\\n   B. Final thoughts on choosing between LangChain and LangSmith\\n      1. Recommendations based on specific needs or scenarios\\n      2. Future trends in language processing tools\\n\\n**Notes/Instructions:**\\n- Ensure that each section is well-researched and includes relevant examples to illustrate points.\\n- Use clear and concise language to make complex concepts accessible to a broad audience.\\n- Consider including visuals or diagrams in the comparative analysis section to enhance understanding.\\n- Cite sources where applicable to support claims and provide credibility to the essay.'}}\n",
      "{'research_plan': {'content': ['Langchain vs Langsmith: Unpacking the AI Language Model Showdown\\nOverview of Langchain and Langsmith\\nLangchain is a versatile open-source framework that enables you to build applications utilizing large language models (LLM) like GPT-3. Check out our free WhatsApp channel to stay educated on LLM developments:\\nJoin the Finxter Academy and unlock access to premium courses 👑 to certify your skills in exponential technologies and programming.\\n Frequently Asked Questions\\nWhether you’re trying to figure out which tool fits your needs or you’re just getting started with language model automation, these FAQs will help shed light on the common curiosities about Langchain and LangSmith.\\n The best way to find out is to reach out to them through the LangSmith Walkthrough page or to inquire about access directly through their support channels.\\n Here’s how you might start a simple Langchain project in Python:\\nTo integrate LangSmith, you could write something like this:\\nYou’re not limited to Python, though.', 'Enter LangChain and LangSmith. In this post, we will explore the latest product by the team that created Langchain (the most popular LLM software tool) and see what new parts of the LLM stack ...', \"Introduction. LangChain is a framework for developing applications powered by large language models (LLMs).. LangChain simplifies every stage of the LLM application lifecycle: Development: Build your applications using LangChain's open-source building blocks, components, and third-party integrations.Use LangGraph to build stateful agents with first-class streaming and human-in-the-loop support.\", 'Introduction. LangChain is a framework for developing applications powered by language models. It enables applications that: Are context-aware: connect a language model to sources of context (prompt instructions, few shot examples, content to ground its response in, etc.); Reason: rely on a language model to reason (about how to answer based on provided context, what actions to take, etc.)', \"LangSmith empowers you to focus your debugging efforts on specific areas, streamlining the process. Use Cases. 1. Optimizing LLM Performance: Imagine you're developing a chatbot powered by an LLM. The chatbot sometimes provides clunky or irrelevant responses. LangSmith lets you examine the processing chain behind each response.\", \"Use Cases. The following guides are provided to serve as example use cases for how you can use LangSmith's production logging and automations. These are not meant to be exhaustive, nor are they optimized for your use case. They are meant as a reference to help you get started.\"]}}\n",
      "{'generate': {'draft': \"**The Difference Between LangChain and LangSmith**\\n\\n**I. Introduction**\\n\\nIn the rapidly evolving landscape of artificial intelligence (AI) and language processing, tools like LangChain and LangSmith have emerged as pivotal resources for developers and businesses alike. LangChain is an open-source framework designed to facilitate the development of applications powered by large language models (LLMs), while LangSmith focuses on optimizing the debugging and performance of these models. Understanding the differences between these two tools is crucial for developers looking to harness the full potential of AI in their applications. This essay aims to compare and contrast LangChain and LangSmith, providing insights into their respective functionalities and use cases.\\n\\n**II. Overview of LangChain**\\n\\nLangChain serves as a comprehensive framework for building applications that leverage the capabilities of LLMs. Its primary functions include simplifying the development process, enabling context-aware applications, and facilitating reasoning through language models. Key features of LangChain include its open-source building blocks, third-party integrations, and the ability to create stateful agents with human-in-the-loop support. \\n\\nLangChain finds applications across various sectors, including customer service, content generation, and educational tools. For instance, businesses can develop chatbots that provide contextually relevant responses, enhancing user experience and engagement. Additionally, educational platforms can utilize LangChain to create interactive learning environments that adapt to individual student needs.\\n\\n**III. Overview of LangSmith**\\n\\nIn contrast, LangSmith is tailored to streamline the debugging and optimization of LLMs. Its primary functions revolve around enhancing the performance of language models by allowing developers to focus their debugging efforts on specific areas of the processing chain. Key features of LangSmith include production logging, automation capabilities, and tools for analyzing the reasoning behind model responses.\\n\\nLangSmith is particularly beneficial in industries where precision and relevance are paramount, such as healthcare, finance, and customer support. For example, a healthcare chatbot powered by an LLM can utilize LangSmith to refine its responses, ensuring that patients receive accurate and helpful information. Similarly, in finance, LangSmith can help optimize models that analyze market trends and provide investment advice.\\n\\n**IV. Comparative Analysis**\\n\\nWhen comparing LangChain and LangSmith, several key differences emerge. Functionally, LangChain is primarily focused on the development and deployment of LLM applications, while LangSmith emphasizes performance optimization and debugging. This distinction leads to differences in target audience; LangChain appeals to developers looking to create innovative applications, whereas LangSmith caters to those seeking to enhance existing models' performance.\\n\\nBoth tools have their strengths and weaknesses. LangChain's advantages lie in its versatility and ease of use, making it accessible for developers at various skill levels. However, its complexity can be a barrier for those unfamiliar with programming. On the other hand, LangSmith excels in providing detailed insights into model performance, but its specialized focus may limit its appeal to a broader audience.\\n\\n**V. Conclusion**\\n\\nIn summary, LangChain and LangSmith serve distinct yet complementary roles in the realm of AI and language processing. LangChain is ideal for developers aiming to build robust applications powered by LLMs, while LangSmith is best suited for those focused on optimizing and debugging these models. When choosing between the two, developers should consider their specific needs and scenarios. As the field of language processing continues to evolve, both tools are likely to play significant roles in shaping the future of AI applications, making it essential for developers to stay informed about their capabilities and advancements.\", 'revision_number': 2}}\n",
      "{'reflect': {'critique': '**Critique and Recommendations for Your Essay Submission**\\n\\nYour essay on the differences between LangChain and LangSmith is well-structured and informative. You provide a clear introduction, detailed overviews of both tools, and a comparative analysis that highlights their respective strengths and weaknesses. However, there are several areas where you could enhance the depth, clarity, and overall effectiveness of your writing. Below are detailed recommendations:\\n\\n### 1. **Length and Depth**\\n- **Recommendation**: While your essay is concise, consider expanding on certain sections to provide more depth. For instance, you could include specific examples or case studies that illustrate how each tool has been successfully implemented in real-world scenarios. This would not only enrich your analysis but also engage your readers more effectively.\\n- **Target Length**: Aim for 1,200-1,500 words to allow for a more comprehensive exploration of each tool, including potential challenges users might face when implementing them.\\n\\n### 2. **Clarity and Detail**\\n- **Recommendation**: Some technical terms and concepts may not be familiar to all readers. Consider providing brief definitions or explanations for terms like \"human-in-the-loop support\" and \"production logging.\" This will make your essay more accessible to a broader audience.\\n- **Example**: In the section on LangChain, you mention \"stateful agents.\" A brief explanation of what this entails would be beneficial.\\n\\n### 3. **Comparative Analysis**\\n- **Recommendation**: Your comparative analysis is a strong point, but it could benefit from a more structured approach. Consider using a table or bullet points to clearly delineate the differences in features, target audiences, and use cases. This visual representation can help readers quickly grasp the distinctions.\\n- **Additional Aspects**: You might also want to discuss potential future developments for both tools, as this could provide insight into their evolving roles in AI.\\n\\n### 4. **Style and Tone**\\n- **Recommendation**: While your tone is generally appropriate for an academic essay, strive for a more engaging writing style. Use varied sentence structures and incorporate rhetorical questions or thought-provoking statements to maintain reader interest.\\n- **Example**: Instead of stating, \"LangChain is ideal for developers aiming to build robust applications,\" you could say, \"For developers eager to push the boundaries of application development, LangChain offers an ideal platform to innovate and create robust solutions.\"\\n\\n### 5. **Conclusion**\\n- **Recommendation**: Your conclusion effectively summarizes the main points, but consider adding a forward-looking statement about the future of AI and language processing. This could inspire readers to think about the implications of these tools in their own work or studies.\\n- **Example**: You might conclude with a statement like, \"As AI technology continues to advance, the integration of tools like LangChain and LangSmith will undoubtedly shape the next generation of intelligent applications, making it imperative for developers to stay ahead of the curve.\"\\n\\n### 6. **Citations and References**\\n- **Recommendation**: If you reference specific features or case studies, ensure you provide citations or links to sources. This not only adds credibility to your essay but also allows readers to explore the topic further.\\n- **Format**: Consider using a consistent citation style (e.g., APA, MLA) throughout your essay.\\n\\n### Final Thoughts\\nOverall, your essay provides a solid foundation for understanding the differences between LangChain and LangSmith. By incorporating these recommendations, you can enhance the clarity, depth, and engagement of your writing, making it a more valuable resource for your readers. Keep up the good work, and I look forward to seeing your revisions!'}}\n",
      "{'research_critique': {'content': ['Langchain vs Langsmith: Unpacking the AI Language Model Showdown\\nOverview of Langchain and Langsmith\\nLangchain is a versatile open-source framework that enables you to build applications utilizing large language models (LLM) like GPT-3. Check out our free WhatsApp channel to stay educated on LLM developments:\\nJoin the Finxter Academy and unlock access to premium courses 👑 to certify your skills in exponential technologies and programming.\\n Frequently Asked Questions\\nWhether you’re trying to figure out which tool fits your needs or you’re just getting started with language model automation, these FAQs will help shed light on the common curiosities about Langchain and LangSmith.\\n The best way to find out is to reach out to them through the LangSmith Walkthrough page or to inquire about access directly through their support channels.\\n Here’s how you might start a simple Langchain project in Python:\\nTo integrate LangSmith, you could write something like this:\\nYou’re not limited to Python, though.', 'Enter LangChain and LangSmith. In this post, we will explore the latest product by the team that created Langchain (the most popular LLM software tool) and see what new parts of the LLM stack ...', \"Introduction. LangChain is a framework for developing applications powered by large language models (LLMs).. LangChain simplifies every stage of the LLM application lifecycle: Development: Build your applications using LangChain's open-source building blocks, components, and third-party integrations.Use LangGraph to build stateful agents with first-class streaming and human-in-the-loop support.\", 'Introduction. LangChain is a framework for developing applications powered by language models. It enables applications that: Are context-aware: connect a language model to sources of context (prompt instructions, few shot examples, content to ground its response in, etc.); Reason: rely on a language model to reason (about how to answer based on provided context, what actions to take, etc.)', \"LangSmith empowers you to focus your debugging efforts on specific areas, streamlining the process. Use Cases. 1. Optimizing LLM Performance: Imagine you're developing a chatbot powered by an LLM. The chatbot sometimes provides clunky or irrelevant responses. LangSmith lets you examine the processing chain behind each response.\", \"Use Cases. The following guides are provided to serve as example use cases for how you can use LangSmith's production logging and automations. These are not meant to be exhaustive, nor are they optimized for your use case. They are meant as a reference to help you get started.\", \"The company has 70+ businesses in fields such as\\nLangChain Partners with CommandBar on their Copilot User Assistant\\nCommandBar is a user assistance platform that helps software companies make their products easy to use by capturing and predicting user intent, and then delivering\\nLangChain partners with Elastic to launch the Elastic AI Assistant\\nElastic, a leading search analytics company, serving over 20k customers worldwide, enables organizations to securely harness search-powered AI so anyone can find the answers they\\nAlly Financial Collaborates with LangChain to Deliver Critical Coding Module to Mask Personal Identifying Information in a Compliant and Safe Manner\\nAlly Financial, the largest digital-only bank in the US and a leading auto lender, has recently collaborated with LangChain to release the first initial coding\\nLLMs accelerate Adyen's support team through smart-ticket routing and support agent copilot\\nChallenge\\nAs global commerce accelerates, Adyen, a publicly-traded financial technology platform, is helping large companies like Meta, Uber, H&M, and Microsoft achieve their\\nLangChain Expands Collaboration with Microsoft\\n LangChain helps developers build context-aware reasoning applications and powers some of the most\\nMorningstar Intelligence Engine puts personalized investment insights at analysts' fingertips\\nChallenge\\nFinancial services is one of the most data-driven industries and financial professionals are always hungry for more data and better tools to drive value\\nRobocorp’s code generation assistant makes building Python automation easy for developers\\nChallenge\\nRobocorp was founded in 2019 out of frustration that the promise of developers being able to automate monotonous work hadn’t been realized. Case Studies\\nRakuten Group builds with LangChain and LangSmith to deliver premium products for its business clients and employees\\nRakuten Group is well known for operating one of the largest online shopping malls in Japan. Today, we’re thrilled to announce a collaboration between LangChain and Microsoft.\\n Right\\n© LangChain Blog 2024\", '1. Today I introduce LangChain, an outstanding platform made especially for language models, and its use cases. With LangChain we can easily replace components by seamlessly integrating various ...', \"LangSmith Cookbook: Real-world Lang Smith Examples\\nThe LangSmith Cookbook is not just a compilation of code snippets; it's a goldmine of hands-on examples designed to inspire and assist you in your projects. On This Page\\nLangSmith: Best Way to Test LLMs and AI Application\\nPublished on 12/17/2023\\nIf you're in the world of Language Learning Models (LLMs), you've probably heard of LangSmith. How to Download Feedback and Examples (opens in a new tab): Export predictions, evaluation results, and other information to add to your reports programmatically.\\n This article is your one-stop guide to understanding LangSmith, a platform that offers a plethora of features for debugging, testing, evaluating, and monitoring LLM applications.\\n How do I get access to LangSmith?\\nTo get access to LangSmith, you'll need to sign up for an account on their website.\", 'LangSmith by LangChain is a platform that simplifies LLM applications with debugging, testing, evaluating, and monitoring. This article covers its key components with code snippets and examples.', 'Langsmith is a platform that builds on top of Langchain to help developers take their applications from prototype to production. It provides features for debugging, monitoring, and optimizing ...', '# Report: The Difference Between LangChain and LangSmith ## Introduction In the field of language model development, two tools have gained significant attention: LangChain and LangSmith. While both tools are related to language models, they serve different purposes and offer distinct features.']}}\n",
      "{'generate': {'draft': \"# The Difference Between LangChain and LangSmith\\n\\n## I. Introduction\\nIn the rapidly evolving field of artificial intelligence (AI) and language processing, two prominent tools have emerged: LangChain and LangSmith. LangChain is an open-source framework designed for developing applications powered by large language models (LLMs), while LangSmith builds upon LangChain to enhance the debugging, testing, and monitoring of these applications. Understanding the differences between these two tools is crucial for developers and businesses looking to leverage AI effectively. This essay aims to compare and contrast LangChain and LangSmith, providing insights into their respective functionalities and use cases.\\n\\n## II. Overview of LangChain\\nLangChain serves as a versatile framework that simplifies the development of applications utilizing LLMs like GPT-3. Its primary functions include enabling context-aware applications that can reason based on provided data and instructions. Key features of LangChain include its open-source building blocks, components for integration, and support for stateful agents through LangGraph. These capabilities allow developers to create applications that are not only responsive but also capable of understanding and processing complex queries.\\n\\nLangChain finds applications across various industries, including finance, e-commerce, and customer support. For instance, companies like Adyen utilize LangChain to enhance their support systems through smart ticket routing, while Rakuten Group employs it to deliver premium products to clients. The framework's flexibility and robust capabilities make it a popular choice for developers aiming to create innovative AI-driven solutions.\\n\\n## III. Overview of LangSmith\\nLangSmith, on the other hand, is a platform that focuses on optimizing the performance of LLM applications. It provides tools for debugging, testing, evaluating, and monitoring applications built with LangChain. The primary functions of LangSmith include streamlining the debugging process, allowing developers to focus on specific areas of their applications, and enhancing the overall performance of LLMs. Key features include production logging, automation capabilities, and a comprehensive cookbook filled with real-world examples to guide developers.\\n\\nLangSmith is particularly beneficial for industries that require high levels of accuracy and reliability in their AI applications, such as finance and healthcare. For example, financial institutions can use LangSmith to ensure that their chatbots provide relevant and accurate responses, thereby improving customer satisfaction. The platform's emphasis on performance optimization makes it an essential tool for developers looking to take their applications from prototype to production.\\n\\n## IV. Comparative Analysis\\nWhen comparing LangChain and LangSmith, several key differences emerge. Firstly, LangChain is primarily focused on the development of LLM applications, while LangSmith is geared towards enhancing the performance and reliability of those applications. This functional distinction means that LangChain is ideal for developers looking to build new applications, whereas LangSmith is better suited for those seeking to refine and optimize existing ones.\\n\\nIn terms of target audience, LangChain appeals to a broader range of developers, including those new to AI, due to its open-source nature and extensive documentation. Conversely, LangSmith targets developers who are already familiar with LangChain and are looking to improve their applications' performance. The strengths of LangChain lie in its versatility and ease of use, while LangSmith excels in providing tools for debugging and performance monitoring. However, both tools have limitations; LangChain may require additional resources for complex applications, and LangSmith may not be as beneficial for those just starting with LLMs.\\n\\n## V. Conclusion\\nIn summary, LangChain and LangSmith serve distinct yet complementary roles in the realm of AI and language processing. LangChain is an excellent choice for developers looking to create innovative applications powered by LLMs, while LangSmith provides essential tools for optimizing and debugging those applications. When choosing between the two, developers should consider their specific needs: whether they are in the initial stages of application development or seeking to enhance existing solutions. As the landscape of language processing tools continues to evolve, both LangChain and LangSmith are poised to play significant roles in shaping the future of AI-driven applications.\", 'revision_number': 3}}\n"
     ]
    }
   ],
   "source": [
    "thread = {\"configurable\": {\"thread_id\": \"1\"}}\n",
    "for s in graph.stream({\n",
    "    'task': \"what is the difference between langchain and langsmith\",\n",
    "    \"max_revisions\": 2,\n",
    "    \"revision_number\": 1,\n",
    "}, thread):\n",
    "    print(s)"
   ]
  }
 ],
 "metadata": {
  "kernelspec": {
   "display_name": "ai-agents-hub",
   "language": "python",
   "name": "ai-agents-hub"
  },
  "language_info": {
   "codemirror_mode": {
    "name": "ipython",
    "version": 3
   },
   "file_extension": ".py",
   "mimetype": "text/x-python",
   "name": "python",
   "nbconvert_exporter": "python",
   "pygments_lexer": "ipython3",
   "version": "3.11.9"
  }
 },
 "nbformat": 4,
 "nbformat_minor": 2
}
