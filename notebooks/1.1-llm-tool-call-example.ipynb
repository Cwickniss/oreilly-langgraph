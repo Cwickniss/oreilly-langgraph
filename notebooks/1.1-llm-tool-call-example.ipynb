{
 "cells": [
  {
   "cell_type": "code",
   "execution_count": 38,
   "metadata": {},
   "outputs": [],
   "source": [
    "from langgraph.graph import MessagesState, StateGraph, START, END\n",
    "from langgraph.prebuilt import ToolNode\n",
    "from langgraph.prebuilt import tools_condition\n",
    "from langchain_openai import ChatOpenAI\n",
    "from langchain_core.messages import HumanMessage\n",
    "from langgraph.graph import MessagesState\n",
    "from langchain_core.tools import tool\n",
    "from langchain_core.prompts import ChatPromptTemplate\n",
    "from serpapi import search\n",
    "import os"
   ]
  },
  {
   "cell_type": "code",
   "execution_count": 3,
   "metadata": {},
   "outputs": [],
   "source": [
    "class MessagesState(MessagesState):\n",
    "    # Add any keys needed beyond messages, which is pre-built \n",
    "    pass"
   ]
  },
  {
   "cell_type": "code",
   "execution_count": 39,
   "metadata": {},
   "outputs": [],
   "source": [
    "serpapi_params = {\n",
    "    \"engine\": \"google\",\n",
    "    \"api_key\": os.environ[\"SERPAPI_KEY\"]\n",
    "}\n",
    "\n",
    "@tool\n",
    "def web_search(query: str) -> str:\n",
    "    \"\"\"Finds general knowledge information using Google search. Can also be used\n",
    "    to augment more 'general' knowledge to a previous specialist query.\"\"\"\n",
    "    search = search({**serpapi_params, \"q\":query, \"n\": 3})\n",
    "    results = search.get_dict()[\"organic_results\"]\n",
    "    contexts = \"\\n---\\n\".join(\n",
    "         [\"\\n\".join([x[\"title\"], x[\"snippet\"], x[\"link\"]]) for x in results]\n",
    "        )\n",
    "    \n",
    "    return contexts\n",
    "\n",
    "tools = [web_search]"
   ]
  },
  {
   "cell_type": "code",
   "execution_count": 11,
   "metadata": {},
   "outputs": [],
   "source": [
    "llm = ChatOpenAI(model=\"gpt-4o-mini\", temperature=0)\n",
    "llm_with_tools = llm.bind_tools(tools)\n"
   ]
  },
  {
   "cell_type": "code",
   "execution_count": 43,
   "metadata": {},
   "outputs": [
    {
     "data": {
      "text/plain": [
       "AIMessage(content='', additional_kwargs={'tool_calls': [{'id': 'call_9NVTo63mB8AkRPoU5pVAgYVp', 'function': {'arguments': '{\"query\":\"current weather in Tokyo\"}', 'name': 'web_search'}, 'type': 'function'}], 'refusal': None}, response_metadata={'token_usage': {'completion_tokens': 17, 'prompt_tokens': 71, 'total_tokens': 88, 'completion_tokens_details': {'accepted_prediction_tokens': 0, 'audio_tokens': 0, 'reasoning_tokens': 0, 'rejected_prediction_tokens': 0}, 'prompt_tokens_details': {'audio_tokens': 0, 'cached_tokens': 0}}, 'model_name': 'gpt-4o-mini-2024-07-18', 'system_fingerprint': 'fp_0ba0d124f1', 'finish_reason': 'tool_calls', 'logprobs': None}, id='run-132030db-7c98-4869-9810-9847cadb21cf-0', tool_calls=[{'name': 'web_search', 'args': {'query': 'current weather in Tokyo'}, 'id': 'call_9NVTo63mB8AkRPoU5pVAgYVp', 'type': 'tool_call'}], usage_metadata={'input_tokens': 71, 'output_tokens': 17, 'total_tokens': 88, 'input_token_details': {'audio': 0, 'cache_read': 0}, 'output_token_details': {'audio': 0, 'reasoning': 0}})"
      ]
     },
     "execution_count": 43,
     "metadata": {},
     "output_type": "execute_result"
    }
   ],
   "source": [
    "output = llm_with_tools.invoke(\"What is the weather in Tokyo?\")\n",
    "output"
   ]
  },
  {
   "cell_type": "code",
   "execution_count": 46,
   "metadata": {},
   "outputs": [
    {
     "data": {
      "text/plain": [
       "[{'name': 'web_search',\n",
       "  'args': {'query': 'current weather in Tokyo'},\n",
       "  'id': 'call_9NVTo63mB8AkRPoU5pVAgYVp',\n",
       "  'type': 'tool_call'}]"
      ]
     },
     "execution_count": 46,
     "metadata": {},
     "output_type": "execute_result"
    }
   ],
   "source": [
    "output.tool_calls"
   ]
  },
  {
   "cell_type": "code",
   "execution_count": 40,
   "metadata": {},
   "outputs": [],
   "source": [
    "def tool_calling_llm(state: MessagesState):\n",
    "    return {\"messages\": [llm_with_tools.invoke(state[\"messages\"])]}"
   ]
  },
  {
   "cell_type": "code",
   "execution_count": 72,
   "metadata": {},
   "outputs": [],
   "source": [
    "system_prompt = \"\"\"\n",
    "You take in a query and information about a topic and you compile a mini report on the subject.\n",
    "\"\"\"\n",
    "\n",
    "prompt = ChatPromptTemplate.from_messages([\n",
    "    (\"system\", system_prompt),\n",
    "    (\"user\", \"{messages}\")\n",
    "])\n",
    "\n",
    "llm_writer = ChatOpenAI(model=\"gpt-4o-mini\", temperature=0)\n",
    "\n",
    "chain_writer = prompt | llm_writer\n",
    "\n",
    "def write_report(state: MessagesState):\n",
    "    research_information = state[\"messages\"][-1].content\n",
    "    state[\"messages\"].append(HumanMessage(content=f\"Write a mini report based on your findings: {research_information}\"))\n",
    "    return {\"messages\": [chain_writer.invoke(state[\"messages\"])]}\n",
    "\n",
    "def route_to_writer(state: MessagesState):\n",
    "    if state[\"messages\"][-1].tool_calls:\n",
    "        return \"tools\"\n",
    "    else:\n",
    "        return \"write_report\""
   ]
  },
  {
   "cell_type": "code",
   "execution_count": 75,
   "metadata": {},
   "outputs": [
    {
     "data": {
      "image/jpeg": "[encoded data removed]",
      "text/plain": [
       "<IPython.core.display.Image object>"
      ]
     },
     "metadata": {},
     "output_type": "display_data"
    }
   ],
   "source": [
    "from IPython.display import Image, display\n",
    "\n",
    "tools = [web_search]\n",
    "builder = StateGraph(MessagesState)\n",
    "builder.add_node(\"search\", tool_calling_llm)\n",
    "builder.add_node(\"tools\", ToolNode(tools))\n",
    "builder.add_node(\"write_report\", write_report)\n",
    "builder.add_edge(START, \"search\")\n",
    "builder.add_conditional_edges(\"search\", route_to_writer)\n",
    "builder.add_edge(\"tools\", \"write_report\")\n",
    "builder.add_edge(\"write_report\", END)\n",
    "graph = builder.compile()\n",
    "display(Image(graph.get_graph().draw_mermaid_png()))"
   ]
  },
  {
   "cell_type": "code",
   "execution_count": 60,
   "metadata": {},
   "outputs": [
    {
     "data": {
      "image/jpeg": "[encoded data removed]",
      "text/plain": [
       "<IPython.core.display.Image object>"
      ]
     },
     "metadata": {},
     "output_type": "display_data"
    }
   ],
   "source": [
    "from IPython.display import Image, display\n",
    "from langgraph.graph import StateGraph, START, END\n",
    "from langgraph.graph import MessagesState\n",
    "from langgraph.prebuilt import ToolNode\n",
    "from langgraph.prebuilt import tools_condition\n",
    "\n",
    "from langchain_openai import ChatOpenAI\n",
    "\n",
    "def multiply(a: int, b: int) -> int:\n",
    "    \"\"\"Multiply a and b.\n",
    "\n",
    "    Args:\n",
    "        a: first int\n",
    "        b: second int\n",
    "    \"\"\"\n",
    "    return a * b\n",
    "\n",
    "llm = ChatOpenAI(model=\"gpt-4o\")\n",
    "llm_with_tools = llm.bind_tools([multiply])\n",
    "\n",
    "# Node\n",
    "def tool_calling_llm(state: MessagesState):\n",
    "    return {\"messages\": [llm_with_tools.invoke(state[\"messages\"])]}\n",
    "\n",
    "# Build graph\n",
    "builder = StateGraph(MessagesState)\n",
    "builder.add_node(\"tool_calling_llm\", tool_calling_llm)\n",
    "builder.add_node(\"tools\", ToolNode([multiply]))\n",
    "builder.add_edge(START, \"tool_calling_llm\")\n",
    "builder.add_conditional_edges(\n",
    "    \"tool_calling_llm\",\n",
    "    # If the latest message (result) from assistant is a tool call -> tools_condition routes to tools\n",
    "    # If the latest message (result) from assistant is a not a tool call -> tools_condition routes to END\n",
    "    tools_condition,\n",
    ")\n",
    "builder.add_edge(\"tools\", END)\n",
    "graph = builder.compile()\n",
    "\n",
    "# View\n",
    "display(Image(graph.get_graph().draw_mermaid_png()))"
   ]
  },
  {
   "cell_type": "code",
   "execution_count": null,
   "metadata": {},
   "outputs": [],
   "source": []
  },
  {
   "cell_type": "code",
   "execution_count": 27,
   "metadata": {},
   "outputs": [
    {
     "data": {
      "text/markdown": [
       "### Mini Report: The Importance of Using Graphs to Represent Agentic Workflows\n",
       "\n",
       "#### Introduction\n",
       "Agentic workflows refer to the processes and actions taken by agents (individuals or systems) to achieve specific goals. Representing these workflows visually through graphs can significantly enhance understanding, communication, and analysis. This report explores the reasons for using graphs in this context.\n",
       "\n",
       "#### 1. Clarity and Comprehension\n",
       "Graphs provide a clear visual representation of complex workflows, making it easier for stakeholders to understand the relationships and sequences of actions. By illustrating how different components interact, graphs can simplify intricate processes, allowing for quicker comprehension.\n",
       "\n",
       "#### 2. Enhanced Communication\n",
       "Visual aids like graphs facilitate better communication among team members and stakeholders. They serve as a common language that can bridge gaps between technical and non-technical individuals, ensuring that everyone involved has a shared understanding of the workflow.\n",
       "\n",
       "#### 3. Identification of Patterns and Trends\n",
       "Graphs can reveal patterns and trends within workflows that may not be immediately apparent through textual descriptions. By visualizing data points, agents can identify bottlenecks, redundancies, or inefficiencies, leading to more informed decision-making.\n",
       "\n",
       "#### 4. Improved Analysis and Problem-Solving\n",
       "When workflows are represented graphically, it becomes easier to analyze them for potential improvements. Graphs allow for the simulation of different scenarios, helping agents to foresee the outcomes of various actions and make adjustments accordingly.\n",
       "\n",
       "#### 5. Documentation and Training\n",
       "Graphs serve as effective documentation tools that can be used for training new team members. A visual representation of workflows can help newcomers grasp the processes more quickly than traditional documentation methods, leading to faster onboarding and increased productivity.\n",
       "\n",
       "#### 6. Flexibility and Adaptability\n",
       "Graphs can be easily modified to reflect changes in workflows, making them a flexible tool for ongoing process management. As workflows evolve, updating a graph can provide an immediate visual cue to all stakeholders about the new processes in place.\n",
       "\n",
       "#### Conclusion\n",
       "Using graphs to represent agentic workflows offers numerous advantages, including enhanced clarity, improved communication, and better analytical capabilities. As organizations increasingly rely on data-driven decision-making, the role of visual representations in understanding and optimizing workflows will continue to grow. Embracing graphical representations can lead to more efficient processes and ultimately contribute to achieving organizational goals."
      ],
      "text/plain": [
       "<IPython.core.display.Markdown object>"
      ]
     },
     "execution_count": 27,
     "metadata": {},
     "output_type": "execute_result"
    }
   ],
   "source": [
    "from IPython.display import Markdown\n",
    "\n",
    "output = graph.invoke({\"messages\": [HumanMessage(content=\"Search online and write a mini report on the topic of why to use graphs to represent agentic workflows?\")]})\n",
    "\n",
    "Markdown(output[\"messages\"][-1].content)"
   ]
  },
  {
   "cell_type": "code",
   "execution_count": 28,
   "metadata": {},
   "outputs": [
    {
     "data": {
      "text/plain": [
       "{'messages': [HumanMessage(content='Search online and write a mini report on the topic of why to use graphs to represent agentic workflows?', additional_kwargs={}, response_metadata={}, id='c08b8097-ff96-4c0b-95c4-542ff62a958c'),\n",
       "  AIMessage(content='', additional_kwargs={'tool_calls': [{'id': 'call_mC0I7OYcH1moOqeULvNhOwWx', 'function': {'arguments': '{\"query\":\"why use graphs to represent agentic workflows\"}', 'name': 'web_search'}, 'type': 'function'}], 'refusal': None}, response_metadata={'token_usage': {'completion_tokens': 21, 'prompt_tokens': 85, 'total_tokens': 106, 'completion_tokens_details': {'accepted_prediction_tokens': 0, 'audio_tokens': 0, 'reasoning_tokens': 0, 'rejected_prediction_tokens': 0}, 'prompt_tokens_details': {'audio_tokens': 0, 'cached_tokens': 0}}, 'model_name': 'gpt-4o-mini-2024-07-18', 'system_fingerprint': 'fp_0ba0d124f1', 'finish_reason': 'tool_calls', 'logprobs': None}, id='run-635202ac-3d71-4b6c-bad2-fde842733af8-0', tool_calls=[{'name': 'web_search', 'args': {'query': 'why use graphs to represent agentic workflows'}, 'id': 'call_mC0I7OYcH1moOqeULvNhOwWx', 'type': 'tool_call'}], usage_metadata={'input_tokens': 85, 'output_tokens': 21, 'total_tokens': 106, 'input_token_details': {'audio': 0, 'cache_read': 0}, 'output_token_details': {'audio': 0, 'reasoning': 0}}),\n",
       "  HumanMessage(content='Write a mini report based on your findings: ', additional_kwargs={}, response_metadata={}, id='458a8cdd-5b86-4b92-a2c1-8b555f43547f'),\n",
       "  AIMessage(content='### Mini Report: The Importance of Using Graphs to Represent Agentic Workflows\\n\\n#### Introduction\\nAgentic workflows refer to the processes and actions taken by agents (individuals or systems) to achieve specific goals. Representing these workflows visually through graphs can significantly enhance understanding, communication, and analysis. This report explores the reasons for using graphs in this context.\\n\\n#### 1. Clarity and Comprehension\\nGraphs provide a clear visual representation of complex workflows, making it easier for stakeholders to understand the relationships and sequences of actions. By illustrating how different components interact, graphs can simplify intricate processes, allowing for quicker comprehension.\\n\\n#### 2. Enhanced Communication\\nVisual aids like graphs facilitate better communication among team members and stakeholders. They serve as a common language that can bridge gaps between technical and non-technical individuals, ensuring that everyone involved has a shared understanding of the workflow.\\n\\n#### 3. Identification of Patterns and Trends\\nGraphs can reveal patterns and trends within workflows that may not be immediately apparent through textual descriptions. By visualizing data points, agents can identify bottlenecks, redundancies, or inefficiencies, leading to more informed decision-making.\\n\\n#### 4. Improved Analysis and Problem-Solving\\nWhen workflows are represented graphically, it becomes easier to analyze them for potential improvements. Graphs allow for the simulation of different scenarios, helping agents to foresee the outcomes of various actions and make adjustments accordingly.\\n\\n#### 5. Documentation and Training\\nGraphs serve as effective documentation tools that can be used for training new team members. A visual representation of workflows can help newcomers grasp the processes more quickly than traditional documentation methods, leading to faster onboarding and increased productivity.\\n\\n#### 6. Flexibility and Adaptability\\nGraphs can be easily modified to reflect changes in workflows, making them a flexible tool for ongoing process management. As workflows evolve, updating a graph can provide an immediate visual cue to all stakeholders about the new processes in place.\\n\\n#### Conclusion\\nUsing graphs to represent agentic workflows offers numerous advantages, including enhanced clarity, improved communication, and better analytical capabilities. As organizations increasingly rely on data-driven decision-making, the role of visual representations in understanding and optimizing workflows will continue to grow. Embracing graphical representations can lead to more efficient processes and ultimately contribute to achieving organizational goals.', additional_kwargs={'refusal': None}, response_metadata={'token_usage': {'completion_tokens': 457, 'prompt_tokens': 463, 'total_tokens': 920, 'completion_tokens_details': {'accepted_prediction_tokens': 0, 'audio_tokens': 0, 'reasoning_tokens': 0, 'rejected_prediction_tokens': 0}, 'prompt_tokens_details': {'audio_tokens': 0, 'cached_tokens': 0}}, 'model_name': 'gpt-4o-mini-2024-07-18', 'system_fingerprint': 'fp_0ba0d124f1', 'finish_reason': 'stop', 'logprobs': None}, id='run-56311193-2493-49cd-92b3-daaee0de287e-0', usage_metadata={'input_tokens': 463, 'output_tokens': 457, 'total_tokens': 920, 'input_token_details': {'audio': 0, 'cache_read': 0}, 'output_token_details': {'audio': 0, 'reasoning': 0}})]}"
      ]
     },
     "execution_count": 28,
     "metadata": {},
     "output_type": "execute_result"
    }
   ],
   "source": [
    "output"
   ]
  },
  {
   "cell_type": "code",
   "execution_count": null,
   "metadata": {},
   "outputs": [],
   "source": []
  }
 ],
 "metadata": {
  "kernelspec": {
   "display_name": "oreilly-langgraph",
   "language": "python",
   "name": "oreilly-langgraph"
  },
  "language_info": {
   "codemirror_mode": {
    "name": "ipython",
    "version": 3
   },
   "file_extension": ".py",
   "mimetype": "text/x-python",
   "name": "python",
   "nbconvert_exporter": "python",
   "pygments_lexer": "ipython3",
   "version": "3.11.10"
  }
 },
 "nbformat": 4,
 "nbformat_minor": 2
}
